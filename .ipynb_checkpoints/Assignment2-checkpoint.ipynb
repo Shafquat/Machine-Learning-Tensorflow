{
 "cells": [
  {
   "cell_type": "code",
   "execution_count": 18,
   "metadata": {
    "collapsed": true
   },
   "outputs": [],
   "source": [
    "import tensorflow as tf\n",
    "import numpy as np\n",
    "import matplotlib.pyplot as plt\n",
    "\n",
    "%matplotlib inline"
   ]
  },
  {
   "cell_type": "code",
   "execution_count": 19,
   "metadata": {
    "collapsed": false
   },
   "outputs": [],
   "source": [
    "# Task 1: Classification Error using LR\n",
    "with np.load(\"notMNIST.npz\") as data:\n",
    "    images, labels = data[\"images\"], data[\"labels\"]\n",
    "images.shape\n",
    "\n",
    "def reaarrangeImages(image_array):\n",
    "    rearranged = np.zeros((image_array.shape[2], image_array.shape[0] * image_array.shape[1]))\n",
    "    for num in range(0, image_array.shape[2]):\n",
    "        rearranged[num,:] = image_array[:,:,num].flatten()\n",
    "    return rearranged\n",
    "                "
   ]
  },
  {
   "cell_type": "code",
   "execution_count": 20,
   "metadata": {
    "collapsed": false
   },
   "outputs": [],
   "source": [
    "training_labels = labels[0:15000]\n",
    "validation_labels = labels[15000:16000]\n",
    "testing_labels = labels[16000:-1]\n",
    "\n",
    "flat_images = reaarrangeImages(images)\n",
    "\n",
    "training_images = flat_images[:15000,:]\n",
    "validation_images = flat_images[15000:16000,:]\n",
    "testing_images = flat_images[16000:,:]\n"
   ]
  },
  {
   "cell_type": "code",
   "execution_count": 21,
   "metadata": {
    "collapsed": false
   },
   "outputs": [
    {
     "data": {
      "text/plain": [
       "(TensorShape([Dimension(15000), Dimension(784)]),\n",
       " TensorShape([Dimension(784), Dimension(1)]))"
      ]
     },
     "execution_count": 21,
     "metadata": {},
     "output_type": "execute_result"
    }
   ],
   "source": [
    "#Placeholders\n",
    "X = tf.Variable(training_images.astype(\"float32\"), name=\"input\") #placeholder(\"float\", shape=(None, 64))\n",
    "Y = tf.placeholder(\"float32\", shape=(None, 1))\n",
    "\n",
    "#Variables\n",
    "W = tf.Variable(np.random.randn(28*28, 1).astype(\"float32\"), name=\"weight\")\n",
    "b = tf.Variable(np.random.randn(1).astype(\"float32\"), name=\"bias\")\n",
    "\n",
    "X.get_shape(), W.get_shape()"
   ]
  },
  {
   "cell_type": "markdown",
   "metadata": {},
   "source": [
    "## Logistic Regression Model\n",
    "We will consider linear model for classification. Note that the model is linear in parameters.\n",
    "\n",
    "$$y(x,w)=σ(x^Tw+b)$$"
   ]
  },
  {
   "cell_type": "code",
   "execution_count": 22,
   "metadata": {
    "collapsed": false
   },
   "outputs": [
    {
     "name": "stdout",
     "output_type": "stream",
     "text": [
      "TensorShape([Dimension(15000), Dimension(1)])\n"
     ]
    }
   ],
   "source": [
    "logits = tf.add(tf.matmul(X, W), b)\n",
    "output = tf.nn.sigmoid(logits)\n",
    "\n",
    "print output.get_shape()"
   ]
  },
  {
   "cell_type": "code",
   "execution_count": 23,
   "metadata": {
    "collapsed": false
   },
   "outputs": [],
   "source": [
    "cost_batch = tf.nn.sigmoid_cross_entropy_with_logits(logits=logits, targets=Y)\n",
    "cost = tf.reduce_mean(cost_batch)"
   ]
  },
  {
   "cell_type": "code",
   "execution_count": 24,
   "metadata": {
    "collapsed": false
   },
   "outputs": [],
   "source": [
    "optimizer = tf.train.MomentumOptimizer(learning_rate=1.0, momentum=0.09)\n",
    "# optimizer = tf.train.GradientDescentOptimizer(learning_rate=1.0)\n",
    "train_op = optimizer.minimize(cost)"
   ]
  },
  {
   "cell_type": "code",
   "execution_count": 25,
   "metadata": {
    "collapsed": true
   },
   "outputs": [],
   "source": [
    "#a hack for binary thresholding\n",
    "pred = tf.greater(output, 0.5)\n",
    "pred_float = tf.cast(pred, \"float\")\n",
    "\n",
    "#accuracy\n",
    "correct_prediction = tf.equal(pred_float, Y)\n",
    "accuracy = tf.reduce_mean(tf.cast(correct_prediction, \"float\"))"
   ]
  },
  {
   "cell_type": "code",
   "execution_count": 26,
   "metadata": {
    "collapsed": true
   },
   "outputs": [],
   "source": [
    "sess = tf.InteractiveSession()"
   ]
  },
  {
   "cell_type": "code",
   "execution_count": 27,
   "metadata": {
    "collapsed": true
   },
   "outputs": [],
   "source": [
    "init = tf.initialize_all_variables()\n",
    "sess.run(init)"
   ]
  },
  {
   "cell_type": "code",
   "execution_count": 28,
   "metadata": {
    "collapsed": false
   },
   "outputs": [
    {
     "ename": "StatusNotOK",
     "evalue": "Invalid argument: Input 0 of node Momentum_1/update_input_1/ApplyMomentum was passed float from _recv_input_1_0:0 incompatible with expected float_ref.",
     "output_type": "error",
     "traceback": [
      "\u001b[1;31m---------------------------------------------------------------------------\u001b[0m",
      "\u001b[1;31mStatusNotOK\u001b[0m                               Traceback (most recent call last)",
      "\u001b[1;32m<ipython-input-28-85bbf06fa032>\u001b[0m in \u001b[0;36m<module>\u001b[1;34m()\u001b[0m\n\u001b[0;32m      4\u001b[0m     \u001b[0my_batch\u001b[0m \u001b[1;33m=\u001b[0m \u001b[0mtraining_labels\u001b[0m\u001b[1;33m[\u001b[0m\u001b[0mi\u001b[0m \u001b[1;33m*\u001b[0m \u001b[1;36m1000\u001b[0m\u001b[1;33m:\u001b[0m \u001b[1;33m(\u001b[0m\u001b[0mi\u001b[0m \u001b[1;33m+\u001b[0m \u001b[1;36m1\u001b[0m\u001b[1;33m)\u001b[0m \u001b[1;33m*\u001b[0m \u001b[1;36m1000\u001b[0m\u001b[1;33m]\u001b[0m\u001b[1;33m\u001b[0m\u001b[0m\n\u001b[0;32m      5\u001b[0m     cost_np, _ = sess.run([cost, train_op],\n\u001b[1;32m----> 6\u001b[1;33m                           feed_dict={X: x_batch, Y: y_batch})\n\u001b[0m\u001b[0;32m      7\u001b[0m \u001b[1;33m\u001b[0m\u001b[0m\n\u001b[0;32m      8\u001b[0m     \u001b[1;31m#Display logs per epoch step\u001b[0m\u001b[1;33m\u001b[0m\u001b[1;33m\u001b[0m\u001b[0m\n",
      "\u001b[1;32m/usr/local/lib/python2.7/dist-packages/tensorflow/python/client/session.pyc\u001b[0m in \u001b[0;36mrun\u001b[1;34m(self, fetches, feed_dict)\u001b[0m\n\u001b[0;32m    366\u001b[0m \u001b[1;33m\u001b[0m\u001b[0m\n\u001b[0;32m    367\u001b[0m     \u001b[1;31m# Run request and get response.\u001b[0m\u001b[1;33m\u001b[0m\u001b[1;33m\u001b[0m\u001b[0m\n\u001b[1;32m--> 368\u001b[1;33m     \u001b[0mresults\u001b[0m \u001b[1;33m=\u001b[0m \u001b[0mself\u001b[0m\u001b[1;33m.\u001b[0m\u001b[0m_do_run\u001b[0m\u001b[1;33m(\u001b[0m\u001b[0mtarget_list\u001b[0m\u001b[1;33m,\u001b[0m \u001b[0munique_fetch_targets\u001b[0m\u001b[1;33m,\u001b[0m \u001b[0mfeed_dict_string\u001b[0m\u001b[1;33m)\u001b[0m\u001b[1;33m\u001b[0m\u001b[0m\n\u001b[0m\u001b[0;32m    369\u001b[0m \u001b[1;33m\u001b[0m\u001b[0m\n\u001b[0;32m    370\u001b[0m     \u001b[1;31m# User may have fetched the same tensor multiple times, but we\u001b[0m\u001b[1;33m\u001b[0m\u001b[1;33m\u001b[0m\u001b[0m\n",
      "\u001b[1;32m/usr/local/lib/python2.7/dist-packages/tensorflow/python/client/session.pyc\u001b[0m in \u001b[0;36m_do_run\u001b[1;34m(self, target_list, fetch_list, feed_dict)\u001b[0m\n\u001b[0;32m    444\u001b[0m                                               e.code)\n\u001b[0;32m    445\u001b[0m         \u001b[1;31m# pylint: enable=protected-access\u001b[0m\u001b[1;33m\u001b[0m\u001b[1;33m\u001b[0m\u001b[0m\n\u001b[1;32m--> 446\u001b[1;33m       \u001b[0msix\u001b[0m\u001b[1;33m.\u001b[0m\u001b[0mreraise\u001b[0m\u001b[1;33m(\u001b[0m\u001b[0me_type\u001b[0m\u001b[1;33m,\u001b[0m \u001b[0me_value\u001b[0m\u001b[1;33m,\u001b[0m \u001b[0me_traceback\u001b[0m\u001b[1;33m)\u001b[0m\u001b[1;33m\u001b[0m\u001b[0m\n\u001b[0m\u001b[0;32m    447\u001b[0m \u001b[1;33m\u001b[0m\u001b[0m\n\u001b[0;32m    448\u001b[0m \u001b[1;33m\u001b[0m\u001b[0m\n",
      "\u001b[1;32m/usr/local/lib/python2.7/dist-packages/tensorflow/python/client/session.pyc\u001b[0m in \u001b[0;36m_do_run\u001b[1;34m(self, target_list, fetch_list, feed_dict)\u001b[0m\n\u001b[0;32m    426\u001b[0m \u001b[1;33m\u001b[0m\u001b[0m\n\u001b[0;32m    427\u001b[0m       return tf_session.TF_Run(self._session, feed_dict, fetch_list,\n\u001b[1;32m--> 428\u001b[1;33m                                target_list)\n\u001b[0m\u001b[0;32m    429\u001b[0m \u001b[1;33m\u001b[0m\u001b[0m\n\u001b[0;32m    430\u001b[0m     \u001b[1;32mexcept\u001b[0m \u001b[0mtf_session\u001b[0m\u001b[1;33m.\u001b[0m\u001b[0mStatusNotOK\u001b[0m \u001b[1;32mas\u001b[0m \u001b[0me\u001b[0m\u001b[1;33m:\u001b[0m\u001b[1;33m\u001b[0m\u001b[0m\n",
      "\u001b[1;31mStatusNotOK\u001b[0m: Invalid argument: Input 0 of node Momentum_1/update_input_1/ApplyMomentum was passed float from _recv_input_1_0:0 incompatible with expected float_ref."
     ]
    }
   ],
   "source": [
    "for epoch in range(1000):\n",
    "  for i in xrange(15):\n",
    "    x_batch = training_images[i * 1000: (i + 1) * 1000]\n",
    "    y_batch = training_labels[i * 1000: (i + 1) * 1000]\n",
    "    cost_np, _ = sess.run([cost, train_op],\n",
    "                          feed_dict={X: x_batch, Y: y_batch})\n",
    "    \n",
    "    #Display logs per epoch step\n",
    "  if epoch % (50) == 0:\n",
    "    cost_train, accuracy_train = sess.run([cost, accuracy],feed_dict={X: training_images, Y: training_labels})\n",
    "    cost_eval, accuracy_eval, norm_w_np = sess.run([cost, accuracy, norm_w],\n",
    "                                                   feed_dict={X: validation_images, Y: validation_labels})    \n",
    "    print (\"Epoch:%04d, cost=%0.9f, Train Accuracy=%0.4f, Eval Accuracy=%0.4f,    Norm of Weights=%0.4f\" %\n",
    "           (epoch+1, cost_train, accuracy_train, accuracy_eval, norm_w_np))"
   ]
  },
  {
   "cell_type": "code",
   "execution_count": null,
   "metadata": {
    "collapsed": true
   },
   "outputs": [],
   "source": []
  }
 ],
 "metadata": {
  "kernelspec": {
   "display_name": "Python 2",
   "language": "python",
   "name": "python2"
  },
  "language_info": {
   "codemirror_mode": {
    "name": "ipython",
    "version": 2
   },
   "file_extension": ".py",
   "mimetype": "text/x-python",
   "name": "python",
   "nbconvert_exporter": "python",
   "pygments_lexer": "ipython2",
   "version": "2.7.11"
  }
 },
 "nbformat": 4,
 "nbformat_minor": 0
}
