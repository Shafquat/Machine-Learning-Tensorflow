{
 "cells": [
  {
   "cell_type": "code",
   "execution_count": 1,
   "metadata": {
    "collapsed": false
   },
   "outputs": [],
   "source": [
    "import tensorflow as tf\n",
    "import numpy as np\n",
    "import matplotlib.pyplot as plt\n",
    "\n",
    "%matplotlib inline"
   ]
  },
  {
   "cell_type": "code",
   "execution_count": 2,
   "metadata": {
    "collapsed": false
   },
   "outputs": [],
   "source": [
    "# Task 1: Classification Error using LR\n",
    "with np.load(\"notMNIST.npz\") as data:\n",
    "    images, labels = data[\"images\"], data[\"labels\"]\n",
    "images.shape\n",
    "\n",
    "# Parameters\n",
    "training_set_size = 15000\n",
    "batch_size = 1000\n",
    "learning_rate = 0.1\n",
    "momentum = 0.99\n",
    "num_epochs = 200"
   ]
  },
  {
   "cell_type": "code",
   "execution_count": 3,
   "metadata": {
    "collapsed": false
   },
   "outputs": [],
   "source": [
    "def rearrangeImages(image_array):\n",
    "    rearranged = np.zeros((image_array.shape[2], image_array.shape[0] * image_array.shape[1]), dtype=np.float32)\n",
    "    for num in range(0, image_array.shape[2]):\n",
    "        flat_image = image_array[:,:,num].flatten()\n",
    "        max_elem = np.amax(flat_image)\n",
    "        for i in range(0, len(flat_image)):\n",
    "            flat_image[i] = flat_image[i] / max_elem\n",
    "        rearranged[num,:] = flat_image\n",
    "    return rearranged\n",
    "                \n",
    "    \n",
    "def oneHot(labels, vector_size):\n",
    "    oneHot = np.zeros((len(labels), vector_size))\n",
    "    for i in range(0, len(labels)):\n",
    "        label_index = labels[i]\n",
    "        oneHot[i, label_index] = 1\n",
    "    return oneHot\n",
    "\n",
    "def preprocess_data(images, labels):\n",
    "    # Create one-hot label vectors and flatten images\n",
    "    one_hot_labels = oneHot(labels, 10)\n",
    "    flat_images = rearrangeImages(images)\n",
    "    return flat_images, one_hot_labels"
   ]
  },
  {
   "cell_type": "code",
   "execution_count": 4,
   "metadata": {
    "collapsed": true
   },
   "outputs": [],
   "source": [
    "# Separate training, validation and test sets\n",
    "flat_images, one_hot_labels = preprocess_data(images, labels)\n",
    "training_labels = one_hot_labels[0:15000]\n",
    "validation_labels = one_hot_labels[15000:16000]\n",
    "testing_labels = one_hot_labels[16000:]\n",
    "\n",
    "training_images = flat_images[:15000,:]\n",
    "validation_images = flat_images[15000:16000,:]\n",
    "testing_images = flat_images[16000:,:]"
   ]
  },
  {
   "cell_type": "code",
   "execution_count": 5,
   "metadata": {
    "collapsed": false
   },
   "outputs": [
    {
     "data": {
      "text/plain": [
       "(TensorShape([Dimension(None), Dimension(784)]),\n",
       " TensorShape([Dimension(784), Dimension(10)]))"
      ]
     },
     "execution_count": 5,
     "metadata": {},
     "output_type": "execute_result"
    }
   ],
   "source": [
    "#Placeholders\n",
    "X = tf.placeholder(\"float32\", shape=(None, 28*28)) # 28x28 flattened arrays\n",
    "Y = tf.placeholder(\"float32\", shape=(None, 10)) # 10-class classifier\n",
    "\n",
    "#Variables\n",
    "W = tf.Variable(np.random.randn(28*28, 10).astype(\"float32\"), name=\"weight\")\n",
    "b = tf.Variable(np.random.randn(10).astype(\"float32\"), name=\"bias\")\n",
    "\n",
    "X.get_shape(), W.get_shape()"
   ]
  },
  {
   "cell_type": "markdown",
   "metadata": {},
   "source": [
    "## Logistic Regression Model\n",
    "We will consider linear model for classification. Note that the model is linear in parameters.\n",
    "\n",
    "$$y(x,w)=σ(x^Tw+b)$$"
   ]
  },
  {
   "cell_type": "code",
   "execution_count": 6,
   "metadata": {
    "collapsed": false
   },
   "outputs": [
    {
     "name": "stdout",
     "output_type": "stream",
     "text": [
      "TensorShape([Dimension(None), Dimension(10)])\n"
     ]
    }
   ],
   "source": [
    "logits = tf.add(tf.matmul(X, W), b)\n",
    "output = tf.nn.softmax(logits)\n",
    "\n",
    "print output.get_shape()"
   ]
  },
  {
   "cell_type": "code",
   "execution_count": 7,
   "metadata": {
    "collapsed": false
   },
   "outputs": [],
   "source": [
    "cost_batch = tf.nn.sigmoid_cross_entropy_with_logits(logits=logits, targets=Y)\n",
    "cost = tf.reduce_mean(cost_batch)\n",
    "\n",
    "# Calculate cost (cross-entropy)\n",
    "#Y_ = tf.placeholder(tf.float32, shape=(None, 10))\n",
    "#cross_entropy = -tf.reduce_sum(Y_*tf.log(Y))"
   ]
  },
  {
   "cell_type": "code",
   "execution_count": 8,
   "metadata": {
    "collapsed": false
   },
   "outputs": [],
   "source": [
    "# Gradient descent\n",
    "train_op = tf.train.MomentumOptimizer(learning_rate=learning_rate, momentum=momentum).minimize(cost)\n",
    "#train_op = tf.train.GradientDescentOptimizer(learning_rate=learning_rate).minimize(cost)"
   ]
  },
  {
   "cell_type": "code",
   "execution_count": 9,
   "metadata": {
    "collapsed": false
   },
   "outputs": [],
   "source": [
    "# Prediction for multiple outputs\n",
    "#pred = tf.greater(output, 0.5)\n",
    "#pred_float = tf.cast(pred, \"float\")\n",
    "\n",
    "# Accuracy\n",
    "correct_prediction = tf.equal(tf.argmax(Y,1), tf.argmax(output,1))#tf.argmax(Y_,1))\n",
    "accuracy = tf.reduce_mean(tf.cast(correct_prediction, tf.float32))\n",
    "norm_w = tf.nn.l2_loss(W)"
   ]
  },
  {
   "cell_type": "code",
   "execution_count": 10,
   "metadata": {
    "collapsed": false
   },
   "outputs": [],
   "source": [
    "sess = tf.InteractiveSession()"
   ]
  },
  {
   "cell_type": "code",
   "execution_count": 11,
   "metadata": {
    "collapsed": true
   },
   "outputs": [],
   "source": [
    "init = tf.initialize_all_variables()\n",
    "sess.run(init)"
   ]
  },
  {
   "cell_type": "code",
   "execution_count": 12,
   "metadata": {
    "collapsed": false,
    "scrolled": false
   },
   "outputs": [
    {
     "name": "stdout",
     "output_type": "stream",
     "text": [
      "Epoch:0001, cost=1.862940431, Train Accuracy=0.1497, Eval Accuracy=0.1440,    Norm of Weights=3804.2488\n",
      "Epoch:0006, cost=1.166463375, Train Accuracy=0.6006, Eval Accuracy=0.5920,    Norm of Weights=3958.7046\n",
      "Epoch:0011, cost=0.822126567, Train Accuracy=0.7307, Eval Accuracy=0.7310,    Norm of Weights=4300.1162\n",
      "Epoch:0016, cost=0.558470130, Train Accuracy=0.7751, Eval Accuracy=0.7740,    Norm of Weights=4514.8896\n",
      "Epoch:0021, cost=0.465151399, Train Accuracy=0.8140, Eval Accuracy=0.7990,    Norm of Weights=4552.2920\n",
      "Epoch:0026, cost=0.398805737, Train Accuracy=0.8266, Eval Accuracy=0.8220,    Norm of Weights=4464.9277\n",
      "Epoch:0031, cost=0.359442592, Train Accuracy=0.8369, Eval Accuracy=0.8290,    Norm of Weights=4311.4473\n",
      "Epoch:0036, cost=0.321906120, Train Accuracy=0.8374, Eval Accuracy=0.8220,    Norm of Weights=4131.9854\n",
      "Epoch:0041, cost=0.293509990, Train Accuracy=0.8403, Eval Accuracy=0.8200,    Norm of Weights=3951.6938\n",
      "Epoch:0046, cost=0.269494653, Train Accuracy=0.8431, Eval Accuracy=0.8250,    Norm of Weights=3779.0344\n",
      "Epoch:0051, cost=0.249893665, Train Accuracy=0.8448, Eval Accuracy=0.8220,    Norm of Weights=3616.6465\n",
      "Epoch:0056, cost=0.233415887, Train Accuracy=0.8459, Eval Accuracy=0.8260,    Norm of Weights=3465.8892\n",
      "Epoch:0061, cost=0.218915552, Train Accuracy=0.8464, Eval Accuracy=0.8250,    Norm of Weights=3326.6685\n",
      "Epoch:0066, cost=0.206125572, Train Accuracy=0.8491, Eval Accuracy=0.8190,    Norm of Weights=3197.6243\n",
      "Epoch:0071, cost=0.194879770, Train Accuracy=0.8513, Eval Accuracy=0.8190,    Norm of Weights=3078.5547\n",
      "Epoch:0076, cost=0.184878364, Train Accuracy=0.8520, Eval Accuracy=0.8200,    Norm of Weights=2968.2322\n",
      "Epoch:0081, cost=0.175958082, Train Accuracy=0.8535, Eval Accuracy=0.8220,    Norm of Weights=2865.7351\n",
      "Epoch:0086, cost=0.167987704, Train Accuracy=0.8557, Eval Accuracy=0.8220,    Norm of Weights=2770.3533\n",
      "Epoch:0091, cost=0.160827860, Train Accuracy=0.8564, Eval Accuracy=0.8170,    Norm of Weights=2681.3418\n",
      "Epoch:0096, cost=0.154380307, Train Accuracy=0.8579, Eval Accuracy=0.8140,    Norm of Weights=2598.1118\n",
      "Epoch:0101, cost=0.148551852, Train Accuracy=0.8597, Eval Accuracy=0.8150,    Norm of Weights=2520.1389\n",
      "Epoch:0106, cost=0.143260553, Train Accuracy=0.8609, Eval Accuracy=0.8140,    Norm of Weights=2446.9609\n",
      "Epoch:0111, cost=0.138438225, Train Accuracy=0.8629, Eval Accuracy=0.8100,    Norm of Weights=2378.1846\n",
      "Epoch:0116, cost=0.134030417, Train Accuracy=0.8647, Eval Accuracy=0.8100,    Norm of Weights=2313.4565\n",
      "Epoch:0121, cost=0.129991531, Train Accuracy=0.8653, Eval Accuracy=0.8090,    Norm of Weights=2252.4722\n",
      "Epoch:0126, cost=0.126282558, Train Accuracy=0.8671, Eval Accuracy=0.8100,    Norm of Weights=2194.9656\n",
      "Epoch:0131, cost=0.122870609, Train Accuracy=0.8685, Eval Accuracy=0.8100,    Norm of Weights=2140.6953\n",
      "Epoch:0136, cost=0.119726487, Train Accuracy=0.8691, Eval Accuracy=0.8080,    Norm of Weights=2089.4438\n",
      "Epoch:0141, cost=0.116824247, Train Accuracy=0.8710, Eval Accuracy=0.8120,    Norm of Weights=2041.0125\n",
      "Epoch:0146, cost=0.114142112, Train Accuracy=0.8723, Eval Accuracy=0.8110,    Norm of Weights=1995.2145\n",
      "Epoch:0151, cost=0.111660257, Train Accuracy=0.8736, Eval Accuracy=0.8100,    Norm of Weights=1951.8796\n",
      "Epoch:0156, cost=0.109361850, Train Accuracy=0.8749, Eval Accuracy=0.8100,    Norm of Weights=1910.8497\n",
      "Epoch:0161, cost=0.107231252, Train Accuracy=0.8757, Eval Accuracy=0.8100,    Norm of Weights=1871.9670\n",
      "Epoch:0166, cost=0.105252832, Train Accuracy=0.8763, Eval Accuracy=0.8090,    Norm of Weights=1835.0989\n",
      "Epoch:0171, cost=0.103412248, Train Accuracy=0.8777, Eval Accuracy=0.8090,    Norm of Weights=1800.1042\n",
      "Epoch:0176, cost=0.101697221, Train Accuracy=0.8792, Eval Accuracy=0.8090,    Norm of Weights=1766.8629\n",
      "Epoch:0181, cost=0.100096405, Train Accuracy=0.8807, Eval Accuracy=0.8090,    Norm of Weights=1735.2598\n",
      "Epoch:0186, cost=0.098600052, Train Accuracy=0.8821, Eval Accuracy=0.8100,    Norm of Weights=1705.1909\n",
      "Epoch:0191, cost=0.097199231, Train Accuracy=0.8827, Eval Accuracy=0.8090,    Norm of Weights=1676.5624\n",
      "Epoch:0196, cost=0.095886692, Train Accuracy=0.8837, Eval Accuracy=0.8110,    Norm of Weights=1649.2872\n"
     ]
    },
    {
     "data": {
      "image/png": "[encoded data removed]",
      "text/plain": [
       "<matplotlib.figure.Figure at 0x7f9ab1f40ad0>"
      ]
     },
     "metadata": {},
     "output_type": "display_data"
    },
    {
     "data": {
      "image/png": "[encoded data removed]",
      "text/plain": [
       "<matplotlib.figure.Figure at 0x7f9aac58d050>"
      ]
     },
     "metadata": {},
     "output_type": "display_data"
    }
   ],
   "source": [
    "accuracy_test = []\n",
    "for epoch in range(num_epochs):\n",
    "  for i in xrange(int(training_set_size/batch_size)):\n",
    "    x_batch = training_images[i * batch_size: (i + 1) * batch_size]\n",
    "    y_batch = training_labels[i * batch_size: (i + 1) * batch_size]\n",
    "    cost_np, _ = sess.run([cost, train_op], feed_dict={X: x_batch, Y: y_batch})\n",
    "    training_error = batch_size * (1 - sess.run(accuracy,feed_dict={X: training_images, Y: training_labels}))\n",
    "    validation_error = len(validation_labels) * (1 - sess.run(accuracy,feed_dict={X: validation_images, Y: validation_labels}))\n",
    "    \n",
    "    #Display logs per epoch step\n",
    "  if (epoch % 5) == 0:\n",
    "    cost_train, accuracy_train = sess.run([cost, accuracy],feed_dict={X: training_images, Y: training_labels})\n",
    "    cost_eval, accuracy_eval, norm_w_np = sess.run([cost, accuracy, norm_w], feed_dict={X: validation_images, Y: validation_labels})    \n",
    "    print (\"Epoch:%04d, cost=%0.9f, Train Accuracy=%0.4f, Eval Accuracy=%0.4f,    Norm of Weights=%0.4f\" %\n",
    "           (epoch+1, cost_train, accuracy_train, accuracy_eval, norm_w_np))\n",
    "    #print(accuracy.eval(feed_dict={X: validation_images, Y: validation_labels}))\n",
    "    # Create a plot with respect to epoch size and validation error and training error\n",
    "    plt.figure(1,figsize=(10,10))\n",
    "    plt.xlabel(\"epochs\"); plt.ylabel(\"Training  Error (blue) and Validation Error (red)\")\n",
    "    plt.plot(epoch, training_error,'bs')\n",
    "    plt.plot(epoch, validation_error, 'ro')\n",
    "    # Create a plot with respect to epoch size and validation L and training L\n",
    "    plt.figure(2,figsize=(10,10))\n",
    "    plt.xlabel(\"epochs\"); plt.ylabel(\"Training Log-likelihood (yellow) and Validation Log-likelihood (red)\")\n",
    "    plt.plot(epoch, -cost_train,'bo')\n",
    "    plt.plot(epoch, -cost_eval, 'ro')\n",
    "    \n",
    "#if (epoch == 100):\n",
    "    accuracy_test.append( sess.run(accuracy,feed_dict={X: testing_images, Y: testing_labels}) )\n"
   ]
  },
  {
   "cell_type": "markdown",
   "metadata": {},
   "source": [
    "After approximately 35 epochs, the log likelihood and error curves passes an inflection point. Further training gives diminishing improvements on both training and validation datasets, and eventually overfitting occurs, as training errors decrease while validation errors worsen slightly. A good compromise between training time and performance would be approximately 35 epochs."
   ]
  },
  {
   "cell_type": "code",
   "execution_count": 16,
   "metadata": {
    "collapsed": false
   },
   "outputs": [
    {
     "name": "stdout",
     "output_type": "stream",
     "text": [
      "[0.13602941, 0.60404414, 0.7286765, 0.76249999, 0.80220586, 0.80036765, 0.81213236, 0.81176472, 0.81213236, 0.8125, 0.80882353, 0.80588233, 0.80330884, 0.80367649, 0.80183822, 0.8025735, 0.8025735, 0.80036765, 0.79852939, 0.7977941, 0.79632354, 0.79632354, 0.7959559, 0.79485291, 0.79338235, 0.79301471, 0.79485291, 0.79705882, 0.79816175, 0.79852939, 0.79852939, 0.7977941, 0.79669118, 0.7959559, 0.79705882, 0.79852939, 0.80147058, 0.80000001, 0.80000001, 0.80110294]\n"
     ]
    }
   ],
   "source": [
    "print(accuracy_test)"
   ]
  },
  {
   "cell_type": "code",
   "execution_count": 17,
   "metadata": {
    "collapsed": false
   },
   "outputs": [
    {
     "name": "stdout",
     "output_type": "stream",
     "text": [
      "Epoch:0035, Test Errors: 512.0000\n"
     ]
    }
   ],
   "source": [
    "print(\"Epoch:%04d, Test Errors: %.4f\" % (35, (1-accuracy_test[7]) * len(testing_labels)))"
   ]
  },
  {
   "cell_type": "code",
   "execution_count": null,
   "metadata": {
    "collapsed": true
   },
   "outputs": [],
   "source": []
  }
 ],
 "metadata": {
  "kernelspec": {
   "display_name": "Python 2",
   "language": "python",
   "name": "python2"
  },
  "language_info": {
   "codemirror_mode": {
    "name": "ipython",
    "version": 2
   },
   "file_extension": ".py",
   "mimetype": "text/x-python",
   "name": "python",
   "nbconvert_exporter": "python",
   "pygments_lexer": "ipython2",
   "version": "2.7.6"
  }
 },
 "nbformat": 4,
 "nbformat_minor": 0
}
